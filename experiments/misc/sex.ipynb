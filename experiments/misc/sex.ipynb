{
 "cells": [
  {
   "cell_type": "code",
   "execution_count": 2,
   "metadata": {
    "collapsed": false
   },
   "outputs": [
   ],
   "source": [
    "%matplotlib inline\n",
    "\n",
    "import os\n",
    "while 'source' not in os.listdir():\n",
    "    os.chdir('..')\n",
    "os.chdir('source')"
   ]
  },
  {
   "cell_type": "code",
   "execution_count": 5,
   "metadata": {
    "collapsed": false
   },
   "outputs": [
    {
     "name": "stdout",
     "output_type": "stream",
     "text": [
      "['C03_1', 'C06_1', 'C08_1', 'C09_1', 'C10_1', 'C13_1', 'C14_1', 'C15_1', 'C16_1', 'C18_1', 'C19_1', 'C20_1', 'C21_1', 'C22_1', 'C23_1', 'C24_1', 'C25_1', 'C26_1', 'C28_1', 'C29_1', 'C31_1', 'C34_1', 'C35_1']\n",
      "['C04_1', 'C12_1', 'C17_1']\n",
      "['C05_1', 'C07_1', 'C32_1']\n",
      "['H05_1', 'H06_1', 'H07_1', 'H09_1', 'H10_1', 'H14_1', 'H15_1', 'H16_1', 'H17_1', 'H18_1', 'H19_1', 'H23_1', 'H25_1', 'H26_1', 'H28_1', 'H30_1', 'H31_1', 'H33_1', 'H34_1', 'H35_1', 'H36_1', 'H38_1', 'H39_1', 'H42_1']\n",
      "['H04_1', 'H08_1', 'H20_1', 'H22_1']\n",
      "['H13_1', 'H41_1']\n"
     ]
    }
   ],
   "source": [
    "from DataGenerator import DataGenerator\n",
    "\n",
    "gen = DataGenerator(control=True,huntington=False,exclude=['t1t2','normalized'])\n",
    "\n",
    "print(sorted(gen.names[0]))\n",
    "print(sorted(gen.names[1]))\n",
    "print(sorted(gen.names[2]))\n",
    "\n",
    "gen = DataGenerator(control=False,huntington=True,exclude=['t1t2','normalized'])\n",
    "\n",
    "print(sorted(gen.names[0]))\n",
    "print(sorted(gen.names[1]))\n",
    "print(sorted(gen.names[2]))"
   ]
  },
  {
   "cell_type": "code",
   "execution_count": 6,
   "metadata": {
    "collapsed": false
   },
   "outputs": [
    {
     "name": "stdout",
     "output_type": "stream",
     "text": [
      "['C03_1', 'C06_1', 'C08_1', 'C09_1', 'C10_1', 'C13_1', 'C14_1', 'C15_1', 'C16_1', 'C18_1', 'C19_1', 'C20_1', 'C21_1', 'C22_1', 'C23_1', 'C24_1', 'C25_1', 'C26_1', 'C28_1', 'C29_1', 'C32_1', 'C34_1']\n",
      "['C04_1', 'C12_1', 'C17_1']\n",
      "['C05_1', 'C07_1', 'C31_1']\n",
      "['H05_1', 'H06_1', 'H07_1', 'H09_1', 'H10_1', 'H14_1', 'H15_1', 'H16_1', 'H17_1', 'H18_1', 'H19_1', 'H23_1', 'H25_1', 'H26_1', 'H28_1', 'H30_1', 'H31_1', 'H34_1', 'H35_1', 'H36_1', 'H38_1', 'H39_1', 'H42_1']\n",
      "['H04_1', 'H08_1', 'H20_1', 'H22_1']\n",
      "['H13_1', 'H41_1']\n"
     ]
    }
   ],
   "source": [
    "from DataGenerator import DataGenerator\n",
    "\n",
    "gen = DataGenerator(control=True,huntington=False,exclude=['t1t2','normalized'],outp='diffusion_fa')\n",
    "\n",
    "print(sorted(gen.names[0]))\n",
    "print(sorted(gen.names[1]))\n",
    "print(sorted(gen.names[2]))\n",
    "\n",
    "gen = DataGenerator(control=False,huntington=True,exclude=['t1t2','normalized'],outp='diffusion_fa')\n",
    "\n",
    "print(sorted(gen.names[0]))\n",
    "print(sorted(gen.names[1]))\n",
    "print(sorted(gen.names[2]))"
   ]
  }
 ],
 "metadata": {
  "kernelspec": {
   "display_name": "tf14",
   "language": "python",
   "metadata": {
    "debugger": true
   },
   "name": "tf14",
   "resource_dir": "/projects/d0a370e9-39db-4874-9788-96e60b5b476d/.local/share/jupyter/kernels/tf14"
  },
  "language_info": {
   "codemirror_mode": {
    "name": "ipython",
    "version": 3
   },
   "file_extension": ".py",
   "mimetype": "text/x-python",
   "name": "python",
   "nbconvert_exporter": "python",
   "pygments_lexer": "ipython3",
   "version": "3.9.20"
  }
 },
 "nbformat": 4,
 "nbformat_minor": 4
}